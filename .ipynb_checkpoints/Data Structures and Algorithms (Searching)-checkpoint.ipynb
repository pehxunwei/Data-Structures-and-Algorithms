{
 "cells": [
  {
   "cell_type": "markdown",
   "metadata": {},
   "source": [
    "<h1><center>Data Structures and Algorithms</center></h1>"
   ]
  },
  {
   "cell_type": "markdown",
   "metadata": {},
   "source": [
    "<h1><center>Objectives</center></h1>"
   ]
  },
  {
   "cell_type": "markdown",
   "metadata": {},
   "source": [
    "- To be able to explain and implement sequential search and binary search.\n",
    "- To be able to explain and implement selection sort, bubble sort, merge sort, quick sort, insertion sort, and shell sort.\n",
    "- To understand the idea of hashing as a search technique.\n",
    "- To introduce the map abstract data type.\n",
    "- To implement the map abstract data type using hashing."
   ]
  },
  {
   "cell_type": "markdown",
   "metadata": {},
   "source": [
    "<h1><center>Searching</center></h1>"
   ]
  },
  {
   "cell_type": "markdown",
   "metadata": {},
   "source": [
    "<p style=\"text-align:justify\">Searching is the algorithmic process of finding a particular item in a collection of items.</p>\n",
    "\n",
    "<span style=\"text-align:justify\">A search typically answers either True or False as to whether the item is present.</span>  \n",
    "<span style=\"text-align:justify\">On occasion it may be modified to return where the item is found.</span> "
   ]
  },
  {
   "cell_type": "code",
   "execution_count": 4,
   "metadata": {},
   "outputs": [
    {
     "data": {
      "text/plain": [
       "False"
      ]
     },
     "execution_count": 4,
     "metadata": {},
     "output_type": "execute_result"
    }
   ],
   "source": [
    "#Example\n",
    "\n",
    "15 in [3,5,2,4,1]"
   ]
  },
  {
   "cell_type": "code",
   "execution_count": 6,
   "metadata": {},
   "outputs": [
    {
     "data": {
      "text/plain": [
       "True"
      ]
     },
     "execution_count": 6,
     "metadata": {},
     "output_type": "execute_result"
    }
   ],
   "source": [
    "#Example\n",
    "\n",
    "3 in [3,5,2,4,1]"
   ]
  },
  {
   "cell_type": "markdown",
   "metadata": {},
   "source": [
    "<h2>The Sequential Search</h2>"
   ]
  },
  {
   "cell_type": "markdown",
   "metadata": {},
   "source": [
    "<p style=\"text-align:justify\">When data items are stored in a collection such as a list, we say that they have a linear or sequential relationship. Each data item is stored in a position relative to the others. In Python lists, these relative positions are the index values of the individual items. Since these index values are ordered, it is possible for us to visit them in sequence.</p>\n",
    "\n",
    "<p style=\"text-align:justify\">When data items are stored in a collection such as a list, we say that they have a linear or sequential relationship. Each data item is stored in a position relative to the others. In Python lists, these relative positions are the index values of the individual items. Since these index values are ordered, it is possible for us to visit them in sequence.</p>"
   ]
  },
  {
   "cell_type": "markdown",
   "metadata": {},
   "source": [
    "![Semiconservative_replication](https://runestone.academy/runestone/static/pythonds/_images/seqsearch.png)"
   ]
  },
  {
   "cell_type": "markdown",
   "metadata": {},
   "source": [
    "<p style=\"text-align:justify\">Starting at the first item in the list, we simply move from item to item, following the underlying sequential ordering until we either find what we are looking for or run out of items. If we run out of items, we have discovered that the item we were searching for was not present.</p>"
   ]
  },
  {
   "cell_type": "code",
   "execution_count": 4,
   "metadata": {},
   "outputs": [
    {
     "name": "stdout",
     "output_type": "stream",
     "text": [
      "False\n",
      "True\n"
     ]
    }
   ],
   "source": [
    "#Example\n",
    "\n",
    "def sequentialSearch(alist, item):\n",
    "    pos = 0\n",
    "    found = False\n",
    " \n",
    "    while pos < len(alist) and not found:\n",
    "        if alist[pos] == item:\n",
    "            found = True\n",
    "        else:\n",
    "            pos = pos+1\n",
    "\n",
    "    return found\n",
    "\n",
    "testlist = [1, 2, 32, 8, 17, 19, 42, 13, 0]\n",
    "print(sequentialSearch(testlist, 3)) #As 3 is not in the testlist, it will return False.\n",
    "\n",
    "print(sequentialSearch(testlist, 13)) #As 13 is in the testlist, it will return True."
   ]
  },
  {
   "cell_type": "markdown",
   "metadata": {},
   "source": [
    "<h2>Analysis of Sequential Search</h2>"
   ]
  },
  {
   "cell_type": "markdown",
   "metadata": {},
   "source": [
    "<p style=\"text-align:justify\">For searching, it makes sense to count the number of comparisons performed. Each comparison may or may not discover the item we are looking for. In addition, we make another assumption here. The list of items is not ordered in any way. The items have been placed randomly into the list. In other words, the probability that the item we are looking for is in any particular position is exactly the same for each position of the list.</p> \n",
    "\n",
    "<p style=\"text-align:justify\">If the item is not in the list, the only way to know it is to compare it against every item present. If there are n items, then the sequential search requires n comparisons to discover that the item is not there. In the case where the item is in the list, the analysis is not so straightforward. There are actually three different scenarios that can occur. In the best case we will find the item in the first place we look, at the beginning of the list. We will need only one comparison. In the worst case, we will not discover the item until the very last comparison, the nth comparison.</p>\n",
    "\n",
    "<p style=\"text-align:justify\">What about the average case? On average, we will find the item about halfway into the list; that is, we will compare against n2 items. Recall, however, that as n gets large, the coefficients, no matter what they are, become insignificant in our approximation, so the complexity of the sequential search, is O(n). The table below summarizes these results.</p>"
   ]
  },
  {
   "cell_type": "markdown",
   "metadata": {},
   "source": [
    "| Case | Best Case | Worst Case | Average Case |\n",
    "|------|----------------|------|------|\n",
    "|   item is present  | 1|n|$\\frac{n}{2}$|\n",
    "|item is not present|n|n|n|"
   ]
  },
  {
   "cell_type": "markdown",
   "metadata": {},
   "source": [
    "<p style=\"text-align:justify\">What would happen to the sequential search if the items were ordered in some way? Would we be able to gain any efficiency in our search technique?</p>"
   ]
  },
  {
   "cell_type": "markdown",
   "metadata": {},
   "source": [
    "<p style=\"text-align:justify\">Assume that the list of items was constructed so that the items were in ascending order, from low to high. If the item we are looking for is present in the list, the chance of it being in any one of the n positions is still the same as before. We will still have the same number of comparisons to find the item. However, if the item is not present there is a slight advantage. The figure below shows this process as the algorithm looks for the item 50. Notice that items are still compared in sequence until 54. At this point, however, we know something extra. Not only is 54 not the item we are looking for, but no other elements beyond 54 can work either since the list is sorted. In this case, the algorithm does not have to continue looking through all of the items to report that the item was not found. It can stop immediately. The code below shows this variation of the sequential search function.</p>"
   ]
  },
  {
   "cell_type": "markdown",
   "metadata": {},
   "source": [
    "![Time complexity for ordered list](https://runestone.academy/runestone/static/pythonds/_images/seqsearch2.png)"
   ]
  },
  {
   "cell_type": "code",
   "execution_count": 7,
   "metadata": {},
   "outputs": [
    {
     "name": "stdout",
     "output_type": "stream",
     "text": [
      "False\n",
      "True\n"
     ]
    }
   ],
   "source": [
    "#Example\n",
    "\n",
    "def orderedSequentialSearch(alist, item):\n",
    "    pos = 0\n",
    "    found = False\n",
    "    stop = False\n",
    "    while pos < len(alist) and not found and not stop:\n",
    "        if alist[pos] == item:\n",
    "            found = True\n",
    "        else:\n",
    "            if alist[pos] > item:\n",
    "                stop = True\n",
    "            else:\n",
    "                pos = pos+1\n",
    "\n",
    "    return found\n",
    "\n",
    "testlist = [0, 1, 2, 8, 13, 17, 19, 32, 42,]\n",
    "print(orderedSequentialSearch(testlist, 3))\n",
    "print(orderedSequentialSearch(testlist, 13))"
   ]
  },
  {
   "cell_type": "markdown",
   "metadata": {},
   "source": [
    "<p style=\"text-align:justify\">Note that in the best case we might discover that the item is not in the list by looking at only one item. On average, we will know after looking through only $\\frac{n}{2}$ items. However, this technique is still O(n). In summary, a sequential search is improved by ordering the list only in the case where we do not find the item.</p>"
   ]
  },
  {
   "cell_type": "markdown",
   "metadata": {},
   "source": [
    "| Case | Best Case | Worst Case | Average Case |\n",
    "|------|----------------|------|------|\n",
    "|   item is present  | 1|n|$\\frac{n}{2}$|\n",
    "|item is not present|1|n|$\\frac{n}{2}$|"
   ]
  },
  {
   "cell_type": "markdown",
   "metadata": {},
   "source": [
    "<h2>The Binary Search</h2>"
   ]
  },
  {
   "cell_type": "markdown",
   "metadata": {},
   "source": [
    "<p style=\"text-align:justify\">It is possible to take greater advantage of the ordered list if we are clever with our comparisons. In the sequential search, when we compare against the first item, there are at most n−1 more items to look through if the first item is not what we are looking for. Instead of searching the list in sequence, a **binary search** will start by examining the middle item. If that item is the one we are searching for, we are done. If it is not the correct item, we can use the ordered nature of the list to eliminate half of the remaining items. If the item we are searching for is greater than the middle item, we know that the entire lower half of the list as well as the middle item can be eliminated from further consideration. The item, if it is in the list, must be in the upper half.</p>"
   ]
  },
  {
   "cell_type": "markdown",
   "metadata": {},
   "source": [
    "<p style=\"text-align:justify\">We can then repeat the process with the upper half. Start at the middle item and compare it against what we are looking for. Again, we either find it or split the list in half, therefore eliminating another large part of our possible search space. The picture below shows how this algorithm can quickly find the value 54. The complete function is shown as the code below.</p>"
   ]
  },
  {
   "cell_type": "markdown",
   "metadata": {},
   "source": [
    "![Binary Search pic](https://runestone.academy/runestone/static/pythonds/_images/binsearch.png)"
   ]
  },
  {
   "cell_type": "code",
   "execution_count": 8,
   "metadata": {},
   "outputs": [
    {
     "name": "stdout",
     "output_type": "stream",
     "text": [
      "False\n",
      "True\n"
     ]
    }
   ],
   "source": [
    "#Example\n",
    "\n",
    "def binarySearch(alist, item):\n",
    "    first = 0\n",
    "    last = len(alist)-1\n",
    "    found = False\n",
    "\n",
    "    while first<=last and not found:\n",
    "        midpoint = (first + last)//2\n",
    "        if alist[midpoint] == item:\n",
    "            found = True\n",
    "        else:\n",
    "            if item < alist[midpoint]:\n",
    "                last = midpoint-1\n",
    "            else:\n",
    "                first = midpoint+1\n",
    "\n",
    "    return found\n",
    "\n",
    "testlist = [0, 1, 2, 8, 13, 17, 19, 32, 42,]\n",
    "print(binarySearch(testlist, 3))\n",
    "print(binarySearch(testlist, 13))"
   ]
  },
  {
   "cell_type": "markdown",
   "metadata": {},
   "source": [
    "<p style=\"text-align:justify\">Before we move on to the analysis, we should note that this algorithm is a great example of a divide and conquer strategy. Divide and conquer means that we divide the problem into smaller pieces, solve the smaller pieces in some way, and then reassemble the whole problem to get the result. When we perform a binary search of a list, we first check the middle item. If the item we are searching for is less than the middle item, we can simply perform a binary search of the left half of the original list. Likewise, if the item is greater, we can perform a binary search of the right half.</p>"
   ]
  },
  {
   "cell_type": "markdown",
   "metadata": {},
   "source": [
    "<h1>remember binary search has a recursive call as well, refer back to the notes for the code</h1>"
   ]
  },
  {
   "cell_type": "markdown",
   "metadata": {},
   "source": [
    "<h3>Analysis of Binary Search</h3>"
   ]
  },
  {
   "cell_type": "markdown",
   "metadata": {},
   "source": [
    "<p style=\"text-align:justify\">Each comparison eliminates about half of the remaining items from consideration. If we start with n items, about $\\frac{n}{2}$ items will be left after the first comparison. After the second comparison, there will be about $\\frac{n}{4}$. Then $\\frac{n}{8}$, $\\frac{n}{16}$, and so on.</p>"
   ]
  },
  {
   "cell_type": "markdown",
   "metadata": {},
   "source": [
    "| Comparisons | Approximate Number Of Items Left |\n",
    "|------|----------------|------|------|\n",
    "|   1 |$\\frac{n}{2}$|\n",
    "|2|$\\frac{n}{4}$|\n",
    "|3|$\\frac{n}{8}$|\n",
    "|...||\n",
    "|i|$\\frac{n}{2^i}$|"
   ]
  },
  {
   "cell_type": "markdown",
   "metadata": {},
   "source": [
    "<p style=\"text-align:justify\">When we split the list enough times, we end up with a list that has just one item. Either that is the item we are looking for or it is not. Either way, we are done. The number of comparisons necessary to get to this point is i where $\\frac{n}{2^i}$ =1. Solving for i gives us i=logn. The maximum number of comparisons is logarithmic with respect to the number of items in the list. Therefore, the binary search is _O_(logn).</p>\n"
   ]
  },
  {
   "cell_type": "markdown",
   "metadata": {},
   "source": [
    "<h1>remember binary search has a recursive call as well, refer back to the notes for the code</h1>"
   ]
  },
  {
   "cell_type": "markdown",
   "metadata": {},
   "source": [
    "<p style=\"text-align:justify\">Even though a binary search is generally better than a sequential search, it is important to note that for small values of n, the additional cost of sorting is probably not worth it. In fact, we should always consider whether it is cost effective to take on the extra work of sorting to gain searching benefits. If we can sort once and then search many times, the cost of the sort is not so significant. However, for large lists, sorting even once can be so expensive that simply performing a sequential search from the start may be the best choice.</p>"
   ]
  },
  {
   "cell_type": "markdown",
   "metadata": {},
   "source": [
    "<h2>Hashing</h2>"
   ]
  },
  {
   "cell_type": "markdown",
   "metadata": {},
   "source": [
    "<p style=\"text-align:justify\">A **hash table** is a collection of items which are stored in such a way as to make it easy to find them later. Each position of the hash table, often called a **slot**, can hold an item and is named by an integer value starting at 0. For example, we will have a slot named 0, a slot named 1, a slot named 2, and so on. Initially, the hash table contains no items so every slot is empty. We can implement a hash table by using a list with each element initialized to the special Python value <font color=\"red\">None.</font></p>\n",
    "\n",
    "<p style=\"text-align:justify\">Below shows a hash table of size m=11. In other words, there are m slots in the table, named 0 through 10.</p>"
   ]
  },
  {
   "cell_type": "markdown",
   "metadata": {},
   "source": [
    "![Hash table](https://runestone.academy/runestone/static/pythonds/_images/hashtable.png)"
   ]
  },
  {
   "cell_type": "markdown",
   "metadata": {},
   "source": [
    "<p style=\"text-align:justify\">The mapping between an item and the slot where that item belongs in the hash table is called the **hash function**. The hash function will take any item in the collection and return an integer in the range of slot names, between 0 and m-1. Assume that we have the set of integer items 54, 26, 93, 17, 77, and 31. Our first hash function, sometimes referred to as the “remainder method,” simply takes an item and divides it by the table size, returning the remainder as its hash value _(h(item)=item%11)_. The table below gives all of the hash values for our example items. Note that this remainder method (modulo arithmetic) will typically be present in some form in all hash functions, since the result must be in the range of slot names.</p>"
   ]
  },
  {
   "cell_type": "markdown",
   "metadata": {},
   "source": [
    "| Item | Hash Value |\n",
    "|------|----------------|\n",
    "|54|10|\n",
    "|26|4|\n",
    "|93|5|\n",
    "|17|6|\n",
    "|77|0|\n",
    "|31|9|"
   ]
  },
  {
   "cell_type": "markdown",
   "metadata": {},
   "source": [
    "<p style=\"text-align:justify\">Once the hash values have been computed, we can insert each item into the hash table at the designated position as shown in the table below. Note that 6 of the 11 slots are now occupied. This is referred to as the **load factor**, and is commonly denoted by λ=$\\frac{number of items}{table size}$. For this example, λ=$\\frac{6}{11}$.</p>"
   ]
  },
  {
   "cell_type": "markdown",
   "metadata": {},
   "source": [
    "![Hash example](https://runestone.academy/runestone/static/pythonds/_images/hashtable2.png)"
   ]
  },
  {
   "cell_type": "markdown",
   "metadata": {},
   "source": [
    "<p style=\"text-align:justify\">Now when we want to search for an item, we simply use the hash function to compute the slot name for the item and then check the hash table to see if it is present. This searching operation is _O(1)_, since a constant amount of time is required to compute the hash value and then index the hash table at that location. If everything is where it should be, we have found a constant time search algorithm.</p>\n",
    "\n",
    "<p style=\"text-align:justify\">You can probably already see that this technique is going to work only if each item maps to a unique location in the hash table. For example, if the item 44 had been the next item in our collection, it would have a hash value of 0 (44%11==0). Since 77 also had a hash value of 0, we would have a problem. According to the hash function, two or more items would need to be in the same slot. This is referred to as a **collision** (it may also be called a “clash”). Clearly, collisions create a problem for the hashing technique. It will be discussed in detailed later.</p>"
   ]
  },
  {
   "cell_type": "markdown",
   "metadata": {},
   "source": [
    "<h2>Hash Functions</h2>"
   ]
  },
  {
   "cell_type": "markdown",
   "metadata": {},
   "source": [
    "<p style=\"text-align:justify\">Given a collection of items, a hash function that maps each item into a unique slot is referred to as a **perfect hash function**. If we know the items and the collection will never change, then it is possible to construct a perfect hash function (refer to the exercises for more about perfect hash functions). Unfortunately, given an arbitrary collection of items, there is no systematic way to construct a perfect hash function. Luckily, we do not need the hash function to be perfect to still gain performance efficiency.</p>\n",
    "\n",
    "<p style=\"text-align:justify\">One way to always have a perfect hash function is to increase the size of the hash table so that each possible value in the item range can be accommodated. This guarantees that each item will have a unique slot. Although this is practical for small numbers of items, it is not feasible when the number of possible items is large. For example, if the items were nine-digit Social Security numbers, this method would require almost one billion slots. If we only want to store data for a class of 25 students, we will be wasting an enormous amount of memory.</p>\n",
    "\n",
    "<p style=\"text-align:justify\">Our goal is to create a hash function that minimizes the number of collisions, is easy to compute, and evenly distributes the items in the hash table. There are a number of common ways to extend the simple remainder method. We will consider a few of them here.</p>\n",
    "\n",
    "<p style=\"text-align:justify\">The **folding method** for constructing hash functions begins by dividing the item into equal-size pieces (the last piece may not be of equal size). These pieces are then added together to give the resulting hash value. For example, if our item was the phone number 436-555-4601, we would take the digits and divide them into groups of 2 (43,65,55,46,01). After the addition, 43+65+55+46+01, we get 210. If we assume our hash table has 11 slots, then we need to perform the extra step of dividing by 11 and keeping the remainder. In this case 210 % 11 is 1, so the phone number 436-555-4601 hashes to slot 1. Some folding methods go one step further and reverse every other piece before the addition. For the above example, we get 43+56+55+64+01=219 which gives 219 % 11=10.</p>\n",
    "\n",
    "<p style=\"text-align:justify\">Another numerical technique for constructing a hash function is called the **mid-square method**. We first square the item, and then extract some portion of the resulting digits. For example, if the item were 44, we would first compute 44<sup>2</sup>=1,936. By extracting the middle two digits, 93, and performing the remainder step, we get 5 (93 % 11). The table below shows items under both the remainder method and the mid-square method. You should verify that you understand how these values were computed.</p>"
   ]
  },
  {
   "cell_type": "markdown",
   "metadata": {},
   "source": [
    "| Item | Remainder | Mid-Square |\n",
    "|------|----------------|--------|\n",
    "|54|10|3|\n",
    "|26|4|7|\n",
    "|93|5|9|\n",
    "|17|6|8|\n",
    "|77|0|4|\n",
    "|31|9|6|"
   ]
  },
  {
   "cell_type": "markdown",
   "metadata": {},
   "source": [
    "<p style=\"text-align:justify\">We can also create hash functions for character-based items such as strings. The word “cat” can be thought of as a sequence of ordinal values.</p>"
   ]
  },
  {
   "cell_type": "code",
   "execution_count": 12,
   "metadata": {},
   "outputs": [
    {
     "data": {
      "text/plain": [
       "99"
      ]
     },
     "execution_count": 12,
     "metadata": {},
     "output_type": "execute_result"
    }
   ],
   "source": [
    "ord('c')"
   ]
  },
  {
   "cell_type": "code",
   "execution_count": 13,
   "metadata": {},
   "outputs": [
    {
     "data": {
      "text/plain": [
       "97"
      ]
     },
     "execution_count": 13,
     "metadata": {},
     "output_type": "execute_result"
    }
   ],
   "source": [
    "ord('a')"
   ]
  },
  {
   "cell_type": "code",
   "execution_count": 14,
   "metadata": {},
   "outputs": [
    {
     "data": {
      "text/plain": [
       "116"
      ]
     },
     "execution_count": 14,
     "metadata": {},
     "output_type": "execute_result"
    }
   ],
   "source": [
    "ord('t')"
   ]
  },
  {
   "cell_type": "markdown",
   "metadata": {},
   "source": [
    "<p style=\"text-align:justify\">We may use the folding method to get a hash value</p>"
   ]
  },
  {
   "cell_type": "markdown",
   "metadata": {},
   "source": [
    "![Folding method](https://runestone.academy/runestone/static/pythonds/_images/stringhash.png)"
   ]
  },
  {
   "cell_type": "code",
   "execution_count": 17,
   "metadata": {},
   "outputs": [],
   "source": [
    "#a function called hash that takes a string and a table size and\n",
    "#returns the hash value in the range from 0 to tablesize-1\n",
    "\n",
    "def hash(astring, tablesize):\n",
    "    sum = 0\n",
    "    for pos in range(len(astring)):\n",
    "        sum = sum + ord(astring[pos])\n",
    "\n",
    "    return sum%tablesize"
   ]
  },
  {
   "cell_type": "markdown",
   "metadata": {},
   "source": [
    "<p style=\"text-align:justify\">When using this hash function, anagrams will always be given the same hash value. An example is peach and cheap. To remedy this, we could use the position of the character as a weight as shown by the diagram below. One possible way to use the positional value as a weighting factor.</p>\n",
    "\n",
    "<p style=\"text-align:justify\">Are you able to try this exercise?</p>"
   ]
  },
  {
   "cell_type": "markdown",
   "metadata": {},
   "source": [
    "![Folding function with weighting factor](https://runestone.academy/runestone/static/pythonds/_images/stringhash2.png)"
   ]
  },
  {
   "cell_type": "markdown",
   "metadata": {},
   "source": [
    "<p style=\"text-align:justify\">You may be able to think of a number of additional ways to compute hash values for items in a collection. The important thing to remember is that the hash function has to be efficient so that it does not become the dominant part of the storage and search process. If the hash function is too complex, then it becomes more work to compute the slot name than it would be to simply do a basic sequential or binary search as described earlier. **This would quickly defeat the purpose of hashing**.</p>"
   ]
  },
  {
   "cell_type": "markdown",
   "metadata": {},
   "source": [
    "<h2>Collision Resolution</h2>"
   ]
  },
  {
   "cell_type": "markdown",
   "metadata": {},
   "source": [
    "<p style=\"text-align:justify\">When two items hash to the same slot, we must have a systematic method for placing the second item in the hash table. This process is called **collision resolution**. If the hash function is perfect, collisions will never occur. However, since this is often not possible, collision resolution becomes a very important part of hashing.</p>\n",
    "\n",
    "<p style=\"text-align:justify\">One method for resolving collisions looks into the hash table and tries to find another open slot to hold the item that caused the collision. A simple way to do this is to start at the original hash value position and then move in a sequential manner through the slots until we encounter the first slot that is empty. Note that we may need to go back to the first slot (circularly) to cover the entire hash table. This collision resolution process is referred to as **open addressing** in that it tries to find the next open slot or address in the hash table. By systematically visiting each slot one at a time, we are performing an open addressing technique called **linear probing**.</p>"
   ]
  },
  {
   "cell_type": "markdown",
   "metadata": {},
   "source": [
    "<p style=\"text-align:justify\">Let's take the table _(hash values for the original items)_ below as an example</p>"
   ]
  },
  {
   "cell_type": "markdown",
   "metadata": {},
   "source": [
    "| Item | Hash Value |\n",
    "|------|----------------|\n",
    "|54|10|\n",
    "|26|4|\n",
    "|93|5|\n",
    "|17|6|\n",
    "|77|0|\n",
    "|31|9|"
   ]
  },
  {
   "cell_type": "markdown",
   "metadata": {},
   "source": [
    "<p style=\"text-align:justify\">The table is then being placed into a hash table</p>"
   ]
  },
  {
   "cell_type": "markdown",
   "metadata": {},
   "source": [
    "![Hash example](https://runestone.academy/runestone/static/pythonds/_images/hashtable2.png)"
   ]
  },
  {
   "cell_type": "markdown",
   "metadata": {},
   "source": [
    "<p style=\"text-align:justify\">Let's include 44, 55 and 20 into the table as well</p>\n",
    "\n",
    "<p style=\"text-align:justify\">When we attempt to place 44 into **slot 0**, a collision occurs. Under linear probing, we look sequentially, slot by slot, until we find an open position. In this case, we find **slot 1**.</p>\n",
    "\n",
    "<p style=\"text-align:justify\">Again, 55 should go in **slot 0** but must be placed in **slot 2** since it is the next open position.</p>\n",
    "\n",
    "<p style=\"text-align:justify\">The final value of 20 hashes to **slot 9**. Since slot 9 is full, we begin to do linear probing. We visit slots 10, 0, 1, and 2, and finally find an empty slot at **slot 3**.</p>"
   ]
  },
  {
   "cell_type": "markdown",
   "metadata": {},
   "source": [
    "![collision resolution](https://runestone.academy/runestone/static/pythonds/_images/linearprobing1.png)"
   ]
  },
  {
   "cell_type": "markdown",
   "metadata": {},
   "source": [
    "<p style=\"text-align:justify\">Once we have built a hash table using open addressing and linear probing, it is essential that we utilize the same methods to search for items. Assume we want to look up the item 93. When we compute the hash value, we get 5. Looking in slot 5 reveals 93, and we can return <font color='red'>True</font>. What if we are looking for 20? Now the hash value is 9, and slot 9 is currently holding 31. We cannot simply return <font color=\"red\">False</font> since we know that there could have been collisions. We are now forced to do a sequential search, starting at position 10, looking until either we find the item 20 or we find an empty slot.</p>"
   ]
  },
  {
   "cell_type": "markdown",
   "metadata": {},
   "source": [
    "<p style=\"text-align:justify\">A disadvantage to linear probing is the tendency for **clustering**; items become clustered in the table. This means that if many collisions occur at the same hash value, a number of surrounding slots will be filled by the linear probing resolution. This will have an impact on other items that are being inserted, as we saw when we tried to add the item 20 above. A cluster of values hashing to 0 had to be skipped to finally find an open position.</p>"
   ]
  },
  {
   "cell_type": "markdown",
   "metadata": {},
   "source": [
    "![clustering](https://runestone.academy/runestone/static/pythonds/_images/clustering.png)"
   ]
  },
  {
   "cell_type": "markdown",
   "metadata": {},
   "source": [
    "<p style=\"text-align:justify\">One way to deal with clustering is to extend the linear probing technique so that instead of looking sequentially for the next open slot, we skip slots, thereby more evenly distributing the items that have caused collisions. This will potentially reduce the clustering that occurs. The diagram below shows the items when collision resolution is done with a “plus 3” probe. This means that once a collision occurs, we will look at every third slot until we find one that is empty.</p>\n",
    "\n",
    "<p style=\"text-align:justify\">Let's take 20 as example. The hash value of 44 is slot 0. However, since 77 occupied slot 0, we use linear probing technique to find the next empty slot. But to avoid clustering, we add a plus 3 probe to it and now the hash value of 44 is in slot 3.</p>\n",
    "\n",
    "<p style=\"text-align:justify\">The same technique is applied to hash values of 55 and 20</p>"
   ]
  },
  {
   "cell_type": "markdown",
   "metadata": {},
   "source": [
    "![clustering solution](https://runestone.academy/runestone/static/pythonds/_images/linearprobing2.png)"
   ]
  },
  {
   "cell_type": "markdown",
   "metadata": {},
   "source": [
    "<p style=\"text-align:justify\">The general name for this process of looking for another slot after a collision is **rehashing**. With simple linear probing, the rehash function is _newhashvalue=rehash(oldhashvalue)_ where _rehash(pos)=(pos+1)%sizeoftable_. The “plus 3” rehash can be defined as _rehash(pos)=(pos+3)%sizeoftable_. In general, _rehash(pos)=(pos+skip)%sizeoftable_. It is important to note that the size of the “skip” must be such that all the slots in the table will eventually be visited. Otherwise, part of the table will be unused. To ensure this, it is often suggested that the table size be a prime number. This is the reason we have been using 11 in our examples.</p>\n",
    "\n",
    "<p style=\"text-align:justify\">A variation of the linear probing idea is called **quadratic probing**. Instead of using a constant “skip” value, we use a rehash function that increments the hash value by 1, 3, 5, 7, 9, and so on. This means that if the first hash value is _h_, the successive values are h+1, h+4, h+9, h+16, and so on. In other words, quadratic probing uses a skip consisting of successive perfect squares. The figure below shows our example values after they are placed using this technique.</p>\n"
   ]
  },
  {
   "cell_type": "markdown",
   "metadata": {},
   "source": [
    "![quadratic probing](https://runestone.academy/runestone/static/pythonds/_images/quadratic.png)"
   ]
  },
  {
   "cell_type": "markdown",
   "metadata": {},
   "source": [
    "<p style=\"text-align:justify\">An alternative method for handling the collision problem is to allow each slot to hold a reference to a collection (or chain) of items. **Chaining** allows many items to exist at the same location in the hash table. When collisions happen, the item is still placed in the proper slot of the hash table. As more and more items hash to the same location, the difficulty of searching for the item in the collection increases. The figure below shows the items as they are added to a hash table that uses chaining to resolve collisions.</p>"
   ]
  },
  {
   "cell_type": "markdown",
   "metadata": {},
   "source": [
    "![chaining](https://runestone.academy/runestone/static/pythonds/_images/chaining.png)"
   ]
  },
  {
   "cell_type": "markdown",
   "metadata": {},
   "source": [
    "<p style=\"text-align:justify\">When we want to search for an item, we use the hash function to generate the slot where it should reside. Since each slot holds a collection, we use a searching technique to decide whether the item is present. The advantage is that on the average there are likely to be many fewer items in each slot, so the search is perhaps more efficient.</p>"
   ]
  },
  {
   "cell_type": "markdown",
   "metadata": {},
   "source": [
    "<h2>Implementing the <span style=\"color:red\">Map</span> Abstract Data Type</h2>"
   ]
  },
  {
   "cell_type": "markdown",
   "metadata": {},
   "source": [
    "<p style=\"text-align:justify\">One of the most useful Python collections is the dictionary. Recall that a dictionary is an associative data type where you can store key–data pairs. The key is used to look up the associated data value. We often refer to this idea as a **map**.</p>\n",
    "\n",
    "<p style=\"text-align:justify\">The map abstract data type is defined as follows. The structure is an unordered collection of associations between a key and a data value. The keys in a map are all unique so that there is a one-to-one relationship between a key and a value. The operations are given below.</p>"
   ]
  },
  {
   "cell_type": "markdown",
   "metadata": {},
   "source": [
    "- <span style=\"color:red\">Map()</span> Create a new, empty map. It returns an empty map collection.\n",
    "- <span style=\"color:red\">put(key,val)</span> Add a new key-value pair to the map. If the key is already in the map then replace the old value with the new value.\n",
    "- <span style=\"color:red\">get(key)</span> Given a key, return the value stored in the map or <span style=\"color:red\">None</span> otherwise.\n",
    "- <span style=\"color:red\">del</span> Delete the key-value pair from the map using a statement of the form <span style=\"color:red\">del map[key]</span>.\n",
    "- <span style=\"color:red\">len()</span> Return the number of key-value pairs stored in the map.\n",
    "- <span style=\"color:red\">in</span> Return <span style=\"color:red\">True</span> for a statement of the form <span style=\"color:red\">key in map</span>, if the given key is in the map, <span style=\"color:red\">False</span> otherwise."
   ]
  },
  {
   "cell_type": "markdown",
   "metadata": {},
   "source": [
    "<p style=\"text-align:justify\">One of the great benefits of a dictionary is the fact that given a key, we can look up the associated data value very quickly. In order to provide this fast look up capability, we need an implementation that supports an efficient search. We could use a list with sequential or binary search but it would be even better to use a hash table as described above since looking up an item in a hash table can approach O(1) performance.</p>"
   ]
  },
  {
   "cell_type": "markdown",
   "metadata": {},
   "source": [
    "<p style=\"text-align:justify\">In the example below, we use two lists to create a <span style=\"color:red\">HashTable</span> class that implements the Map abstract data type. One list, called <span style=\"color:red\">slots</span>, will hold the key items and a parallel list, called <span style=\"color:red\">data</span>, will hold the data values. When we look up a key, the corresponding position in the data list will hold the associated data value. We will treat the key list as a hash table using the ideas presented earlier. Note that the initial size for the hash table has been chosen to be 11. Although this is arbitrary, it is important that the size be a prime number so that the collision resolution algorithm can be as efficient as possible.</p>"
   ]
  },
  {
   "cell_type": "code",
   "execution_count": 18,
   "metadata": {},
   "outputs": [],
   "source": [
    "class HashTable:\n",
    "    def __init__(self):\n",
    "        self.size = 11\n",
    "        self.slots = [None] * self.size\n",
    "        self.data = [None] * self.size"
   ]
  },
  {
   "cell_type": "markdown",
   "metadata": {},
   "source": [
    "<p style=\"text-align:justify\"><span style=\"color:red\">hashfunction</span> implements the simple remainder method. The collision resolution technique is linear probing with a “plus 1” rehash function. The <span style=\"color:red\">put</span> function (see below) assumes that there will eventually be an empty slot unless the key is already present in the <span style=\"color:red\">self.slots</span>. It computes the original hash value and if that slot is not empty, iterates the <span style=\"color:red\">rehash</span> function until an empty slot occurs. If a nonempty slot already contains the key, the old data value is replaced with the new data value. Dealing with the situation where there are no empty slots left is an exercise.</p>"
   ]
  },
  {
   "cell_type": "code",
   "execution_count": 26,
   "metadata": {},
   "outputs": [],
   "source": [
    "def put(self,key,data):\n",
    "  hashvalue = self.hashfunction(key,len(self.slots))\n",
    "\n",
    "  if self.slots[hashvalue] == None:\n",
    "    self.slots[hashvalue] = key\n",
    "    self.data[hashvalue] = data\n",
    "  else:\n",
    "    if self.slots[hashvalue] == key:\n",
    "      self.data[hashvalue] = data  #replace\n",
    "    else:\n",
    "      nextslot = self.rehash(hashvalue,len(self.slots))\n",
    "      while self.slots[nextslot] != None and \\\n",
    "                      self.slots[nextslot] != key:\n",
    "        nextslot = self.rehash(nextslot,len(self.slots))\n",
    "\n",
    "      if self.slots[nextslot] == None:\n",
    "        self.slots[nextslot]=key\n",
    "        self.data[nextslot]=data\n",
    "      else:\n",
    "        self.data[nextslot] = data #replace\n",
    "\n",
    "def hashfunction(self,key,size):\n",
    "     return key%size\n",
    "\n",
    "def rehash(self,oldhash,size):\n",
    "    return (oldhash+1)%size"
   ]
  },
  {
   "cell_type": "markdown",
   "metadata": {},
   "source": [
    "<p style=\"text-align:justify\">Likewise, the <span style=\"color:red\">get</span> function (see below) begins by computing the initial hash value. If the value is not in the initial slot, <span style=\"color:red\">rehash</span> is used to locate the next possible position. Notice that line 15 guarantees that the search will terminate by checking to make sure that we have not returned to the initial slot. If that happens, we have exhausted all possible slots and the item must not be present.</p>\n",
    "\n",
    "<p style=\"text-align:justify\">The final methods of the <span style=\"color:red\">HashTable</span> class provide additional dictionary functionality. We overload the getitem and setitem methods to allow access using \"[]\". This means that once a <span style=\"color:red\">HashTable</span> has been created, the familiar index operator will be available.</p>"
   ]
  },
  {
   "cell_type": "code",
   "execution_count": 27,
   "metadata": {},
   "outputs": [],
   "source": [
    "def get(self,key):\n",
    "  startslot = self.hashfunction(key,len(self.slots))\n",
    "\n",
    "  data = None\n",
    "  stop = False\n",
    "  found = False\n",
    "  position = startslot\n",
    "  while self.slots[position] != None and  \\\n",
    "                       not found and not stop:\n",
    "     if self.slots[position] == key:\n",
    "       found = True\n",
    "       data = self.data[position]\n",
    "     else:\n",
    "       position=self.rehash(position,len(self.slots))\n",
    "       if position == startslot:\n",
    "           stop = True\n",
    "  return data\n",
    "\n",
    "def __getitem__(self,key):\n",
    "    return self.get(key)\n",
    "\n",
    "def __setitem__(self,key,data):\n",
    "    self.put(key,data)"
   ]
  },
  {
   "cell_type": "markdown",
   "metadata": {},
   "source": [
    "<p style=\"text-align:justify\">The following session shows the HashTable class in action. We will create a hash table and store some items with integer keys and string data values.</p>"
   ]
  },
  {
   "cell_type": "code",
   "execution_count": 29,
   "metadata": {},
   "outputs": [],
   "source": [
    "class HashTable:\n",
    "    def __init__(self):\n",
    "        self.size = 11\n",
    "        self.slots = [None] * self.size\n",
    "        self.data = [None] * self.size\n",
    "\n",
    "    def put(self,key,data):\n",
    "      hashvalue = self.hashfunction(key,len(self.slots))\n",
    "\n",
    "      if self.slots[hashvalue] == None:\n",
    "        self.slots[hashvalue] = key\n",
    "        self.data[hashvalue] = data\n",
    "      else:\n",
    "        if self.slots[hashvalue] == key:\n",
    "          self.data[hashvalue] = data  #replace\n",
    "        else:\n",
    "          nextslot = self.rehash(hashvalue,len(self.slots))\n",
    "          while self.slots[nextslot] != None and \\\n",
    "                          self.slots[nextslot] != key:\n",
    "            nextslot = self.rehash(nextslot,len(self.slots))\n",
    "\n",
    "          if self.slots[nextslot] == None:\n",
    "            self.slots[nextslot]=key\n",
    "            self.data[nextslot]=data\n",
    "          else:\n",
    "            self.data[nextslot] = data #replace\n",
    "\n",
    "    def hashfunction(self,key,size):\n",
    "         return key%size\n",
    "\n",
    "    def rehash(self,oldhash,size):\n",
    "        return (oldhash+1)%size        \n",
    "\n",
    "    def get(self,key):\n",
    "      startslot = self.hashfunction(key,len(self.slots))\n",
    "\n",
    "      data = None\n",
    "      stop = False\n",
    "      found = False\n",
    "      position = startslot\n",
    "      while self.slots[position] != None and  \\\n",
    "                           not found and not stop:\n",
    "         if self.slots[position] == key:\n",
    "           found = True\n",
    "           data = self.data[position]\n",
    "         else:\n",
    "           position=self.rehash(position,len(self.slots))\n",
    "           if position == startslot:\n",
    "               stop = True\n",
    "      return data\n",
    "\n",
    "    def __getitem__(self,key):\n",
    "        return self.get(key)\n",
    "\n",
    "    def __setitem__(self,key,data):\n",
    "        self.put(key,data)\n",
    "\n",
    "H = HashTable()\n",
    "H[54]=\"cat\"\n",
    "H[26]=\"dog\"\n",
    "H[93]=\"lion\"\n",
    "H[17]=\"tiger\"\n",
    "H[77]=\"bird\"\n",
    "H[31]=\"cow\"\n",
    "H[44]=\"goat\"\n",
    "H[55]=\"pig\"\n",
    "H[20]=\"chicken\""
   ]
  },
  {
   "cell_type": "code",
   "execution_count": 30,
   "metadata": {},
   "outputs": [
    {
     "data": {
      "text/plain": [
       "[77, 44, 55, 20, 26, 93, 17, None, None, 31, 54]"
      ]
     },
     "execution_count": 30,
     "metadata": {},
     "output_type": "execute_result"
    }
   ],
   "source": [
    "H.slots"
   ]
  },
  {
   "cell_type": "code",
   "execution_count": 31,
   "metadata": {},
   "outputs": [
    {
     "data": {
      "text/plain": [
       "['bird',\n",
       " 'goat',\n",
       " 'pig',\n",
       " 'chicken',\n",
       " 'dog',\n",
       " 'lion',\n",
       " 'tiger',\n",
       " None,\n",
       " None,\n",
       " 'cow',\n",
       " 'cat']"
      ]
     },
     "execution_count": 31,
     "metadata": {},
     "output_type": "execute_result"
    }
   ],
   "source": [
    "H.data"
   ]
  },
  {
   "cell_type": "markdown",
   "metadata": {},
   "source": [
    "<p style=\"text-align:justify\">Next we will access and modify some items in the hash table. Note that the value for the key 20 is being replaced.</p>"
   ]
  },
  {
   "cell_type": "code",
   "execution_count": 32,
   "metadata": {},
   "outputs": [
    {
     "data": {
      "text/plain": [
       "'chicken'"
      ]
     },
     "execution_count": 32,
     "metadata": {},
     "output_type": "execute_result"
    }
   ],
   "source": [
    "H[20]"
   ]
  },
  {
   "cell_type": "code",
   "execution_count": 33,
   "metadata": {},
   "outputs": [
    {
     "data": {
      "text/plain": [
       "'tiger'"
      ]
     },
     "execution_count": 33,
     "metadata": {},
     "output_type": "execute_result"
    }
   ],
   "source": [
    "H[17]"
   ]
  },
  {
   "cell_type": "code",
   "execution_count": 34,
   "metadata": {},
   "outputs": [],
   "source": [
    "H[20] = \"duck\""
   ]
  },
  {
   "cell_type": "code",
   "execution_count": 35,
   "metadata": {},
   "outputs": [
    {
     "data": {
      "text/plain": [
       "'duck'"
      ]
     },
     "execution_count": 35,
     "metadata": {},
     "output_type": "execute_result"
    }
   ],
   "source": [
    "H[20]"
   ]
  },
  {
   "cell_type": "code",
   "execution_count": 36,
   "metadata": {},
   "outputs": [
    {
     "data": {
      "text/plain": [
       "['bird',\n",
       " 'goat',\n",
       " 'pig',\n",
       " 'duck',\n",
       " 'dog',\n",
       " 'lion',\n",
       " 'tiger',\n",
       " None,\n",
       " None,\n",
       " 'cow',\n",
       " 'cat']"
      ]
     },
     "execution_count": 36,
     "metadata": {},
     "output_type": "execute_result"
    }
   ],
   "source": [
    "H.data"
   ]
  },
  {
   "cell_type": "code",
   "execution_count": 37,
   "metadata": {},
   "outputs": [
    {
     "name": "stdout",
     "output_type": "stream",
     "text": [
      "None\n"
     ]
    }
   ],
   "source": [
    "print(H[99])"
   ]
  },
  {
   "cell_type": "markdown",
   "metadata": {},
   "source": [
    "<h2>Analysis of Hashing</h2>"
   ]
  },
  {
   "cell_type": "markdown",
   "metadata": {},
   "source": [
    "<p style=\"text-align:justify\">We stated earlier that in the best case hashing would provide a _O(1)_, constant time search technique. However, due to collisions, the number of comparisons is typically not so simple. Even though a complete analysis of hashing is beyond the scope of this text, we can state some well-known results that approximate the number of comparisons necessary to search for an item.</p>\n",
    "\n",
    "<p style=\"text-align:justify\">The most important piece of information we need to analyze the use of a hash table is the load factor, _λ_. Conceptually, if _λ_ is small, then there is a lower chance of collisions, meaning that items are more likely to be in the slots where they belong. If _λ_ is large, meaning that the table is filling up, then there are more and more collisions. This means that collision resolution is more difficult, requiring more comparisons to find an empty slot. With chaining, increased collisions means an increased number of items on each chain.</p>\n",
    "\n",
    "<p style=\"text-align:justify\">As before, we will have a result for both a successful and an unsuccessful search. For a successful search using open addressing with linear probing, the average number of comparisons is approximately $\\frac{1}{2}$(1+$\\frac{1}{1-λ}$) and an unsuccessful search gives $\\frac{1}{2}$(1+($\\frac{1}{1-λ})^2$) If we are using chaining, the average number of comparisons is 1+$\\frac{λ}{2}$ for the successful case, and simply _λ_ comparisons if the search is unsuccessful.</p>"
   ]
  },
  {
   "cell_type": "markdown",
   "metadata": {},
   "source": [
    "<h2>Summary</h2>"
   ]
  },
  {
   "cell_type": "markdown",
   "metadata": {},
   "source": [
    "- A sequential search is O(n) for ordered and unordered lists.\n",
    "- A binary search of an ordered list is O(logn) in the worst case.\n",
    "- Hash tables can provide constant time searching."
   ]
  },
  {
   "cell_type": "code",
   "execution_count": null,
   "metadata": {},
   "outputs": [],
   "source": []
  }
 ],
 "metadata": {
  "kernelspec": {
   "display_name": "Python 3",
   "language": "python",
   "name": "python3"
  },
  "language_info": {
   "codemirror_mode": {
    "name": "ipython",
    "version": 3
   },
   "file_extension": ".py",
   "mimetype": "text/x-python",
   "name": "python",
   "nbconvert_exporter": "python",
   "pygments_lexer": "ipython3",
   "version": "3.6.4"
  }
 },
 "nbformat": 4,
 "nbformat_minor": 2
}
